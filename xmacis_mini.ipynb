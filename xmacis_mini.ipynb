{
  "nbformat": 4,
  "nbformat_minor": 0,
  "metadata": {
    "colab": {
      "provenance": [],
      "authorship_tag": "ABX9TyObl3pjf10Ic0rFsTV9Ckxi",
      "include_colab_link": true
    },
    "kernelspec": {
      "name": "python3",
      "display_name": "Python 3"
    },
    "language_info": {
      "name": "python"
    }
  },
  "cells": [
    {
      "cell_type": "markdown",
      "metadata": {
        "id": "view-in-github",
        "colab_type": "text"
      },
      "source": [
        "<a href=\"https://colab.research.google.com/github/tjturnage/colab-dash/blob/main/xmacis_mini.ipynb\" target=\"_parent\"><img src=\"https://colab.research.google.com/assets/colab-badge.svg\" alt=\"Open In Colab\"/></a>"
      ]
    },
    {
      "cell_type": "markdown",
      "source": [
        "<h2><b>Step 1</b></h2>\n",
        "<h3>Install the packages you need. You can ignore the comments that appears as long as there are no error messages.</h3>"
      ],
      "metadata": {
        "id": "p6voGimdS9_1"
      }
    },
    {
      "cell_type": "code",
      "source": [
        "!pip install jupyter-dash -q\n",
        "!pip install dash-bootstrap-components\n",
        "import warnings\n",
        "warnings.filterwarnings('ignore')"
      ],
      "metadata": {
        "id": "TnXR17_asPuC"
      },
      "execution_count": null,
      "outputs": []
    },
    {
      "cell_type": "markdown",
      "source": [
        "<h2><b>Step 2</b></h2>\n",
        "<h3>Determine a station you want to get data for. Detailed information about ACIS Web Services <a href=\"https://www.rcc-acis.org/docs_webservices.html\" target=\"_blank\">HERE</a></h3>\n"
      ],
      "metadata": {
        "id": "IImRDeQbTNlW"
      }
    },
    {
      "cell_type": "code",
      "source": [
        "import json\n",
        "import requests\n",
        "meta_url = \"http://data.rcc-acis.org/StnMeta\"\n",
        "\n",
        "#@title\n",
        "station_name = \"GRRthr\" #@param [\"GRRthr\"] {allow-input: true}\n",
        "\n",
        "try:\n",
        "    params = {\"sids\": station_name, \"elems\": \"maxt\", \"meta\": [\"name\",\"valid_daterange\"]}\n",
        "    req = requests.post(meta_url,json=params)\n",
        "    data = req.json()\n",
        "    meta = data['meta'][0]\n",
        "    name = meta['name']\n",
        "    print(f'The station you chose is: {name}.')\n",
        "except Exception:\n",
        "  print(\"Station Not Found! Check your entry and try again.\")\n"
      ],
      "metadata": {
        "colab": {
          "base_uri": "https://localhost:8080/"
        },
        "cellView": "form",
        "id": "oXSM1nSTUmsq",
        "outputId": "f9595a0a-c293-4f82-8319-12221801b6c9"
      },
      "execution_count": 18,
      "outputs": [
        {
          "output_type": "stream",
          "name": "stdout",
          "text": [
            "The station you chose is: Grand Rapids Area.\n"
          ]
        }
      ]
    },
    {
      "cell_type": "markdown",
      "source": [
        "<h2><b>Step 3</b></h2>\n",
        "<h3>Run the code below to retrieve data</h3>\n"
      ],
      "metadata": {
        "id": "1-oeSZfeVDT0"
      }
    },
    {
      "cell_type": "code",
      "source": [
        "from datetime import datetime\n",
        "import pandas as pd\n",
        "import numpy as np\n",
        "\n",
        "parms_url = \"http://data.rcc-acis.org/StnData?params=\"\n",
        "meta_url = \"http://data.rcc-acis.org/StnMeta\"\n",
        "\n",
        "class XMACIS():\n",
        "    def __init__(self,station):\n",
        "\n",
        "        self.station = station\n",
        "\n",
        "        #grab metadata related to station's Period Of Record (POR)\n",
        "        self.por_metadata = self.get_por_metadata()\n",
        "        self.df = self.get_all_por_data()\n",
        "\n",
        "\n",
        "    def get_por_metadata(self):\n",
        "        \"\"\"\n",
        "        Returns list of strings: ['YYYY-mm-dd','YYYY-mm-dd']\n",
        "        Refers to first/last dates ofperiod of record\n",
        "        \"\"\"\n",
        "        params = {\"sids\": self.station, \"elems\": \"maxt\", \"meta\": [\"name\",\"valid_daterange\"]}\n",
        "        req = requests.post(meta_url,json=params)\n",
        "        data = req.json()\n",
        "        meta = data['meta'][0]\n",
        "        self.full_name = meta['name']\n",
        "        #self.por_start = meta['valid_daterange'][0][0]\n",
        "        self.por_start = '1970-01-01'\n",
        "        self.por_end = meta['valid_daterange'][0][1]\n",
        "        self.por_end = '2023-2-20'\n",
        "        self.por_start_year = int(self.por_start[0:4])\n",
        "        self.por_end_year = int(self.por_end[0:4])\n",
        "        self.por_year_range = self.por_end_year - self.por_start_year + 1\n",
        "        self.por_year_index = pd.date_range(start=f'1/1/{self.por_start_year}', periods=self.por_year_range, freq='Y')\n",
        "        self.por_label = f'{self.por_start_year} - {self.por_end_year}'\n",
        "        return\n",
        "\n",
        "    def get_all_por_data(self):\n",
        "        parms = {\n",
        "        \"sid\":self.station,\n",
        "        \"sdate\":self.por_start,\n",
        "        \"edate\":self.por_end,\n",
        "        \"elems\":[\n",
        "            {\"name\":\"maxt\",\"interval\":\"dly\",\"duration\":\"dly\"},\n",
        "            {\"name\":\"mint\",\"interval\":\"dly\",\"duration\":\"dly\"},\n",
        "            {\"name\":\"avgt\",\"interval\":\"dly\",\"duration\":\"dly\"},\n",
        "            {\"name\":\"maxt\",\"interval\":\"dly\",\"duration\":\"dly\",\"normal\":\"1\"},\n",
        "            {\"name\":\"mint\",\"interval\":\"dly\",\"duration\":\"dly\",\"normal\":\"1\"},\n",
        "            {\"name\":\"avgt\",\"interval\":\"dly\",\"duration\":\"dly\",\"normal\":\"1\"},\n",
        "            ]}\n",
        "\n",
        "        req = requests.post(parms_url,json=parms)\n",
        "        data = req.json()\n",
        "        df_init = pd.json_normalize(data)\n",
        "        df_dp = df_init[\"data\"].apply(pd.Series).T\n",
        "        df = df_dp[0].apply(pd.Series)\n",
        "        df.columns = ['dts','maxt','mint','avgt','maxt_n','mint_n','avgt_n']\n",
        "        df['date'] = pd.to_datetime(df['dts'], errors='coerce')\n",
        "        #df['date'] = pd.DatetimeIndex(df['dts'])\n",
        "        df.set_index('date', inplace=True)\n",
        "        df['year'] = df.index.year\n",
        "        df['month'] = df.index.month\n",
        "        df['day'] = df.index.day\n",
        "        df = df.astype({\"dts\":'string', \"year\":'int', \"month\":'int', \"day\":'int', \"maxt\":'int', \"mint\":'int', \"avgt\":'float', \"maxt_n\":'float', \"mint_n\":'float', \"avgt_n\":'float'}, errors='ignore')\n",
        "\n",
        "        melted = pd.melt(df, id_vars=['year','month','day'], value_vars=['mint', 'maxt', 'avgt', 'maxt_n','mint_n','avgt_n'], value_name='temperature')\n",
        "        melted = melted.astype({\"variable\": 'string'}, errors='ignore')\n",
        "      \n",
        "        return melted\n",
        "\n",
        "test = XMACIS(station_name)\n",
        "\n",
        "\n",
        "#output = test.df.to_csv(index=False,header=True)\n",
        "#with open('climate-data.csv', 'w') as outfile:\n",
        "#  for lines in output:\n",
        "#    outfile.write(lines)"
      ],
      "metadata": {
        "id": "VV4Nj8_95AD9"
      },
      "execution_count": 19,
      "outputs": []
    },
    {
      "cell_type": "markdown",
      "source": [
        "<h2><b>Step 4</b></h2>\n",
        "<h3>Run code below to plot data. This might take a while to render at first.</h3>\n"
      ],
      "metadata": {
        "id": "daLkTTTpVooA"
      }
    },
    {
      "cell_type": "code",
      "execution_count": 24,
      "metadata": {
        "colab": {
          "base_uri": "https://localhost:8080/",
          "height": 671
        },
        "id": "oAV519rsrpCk",
        "outputId": "5b735d95-b8ff-4524-d0ad-31f9389cd135"
      },
      "outputs": [
        {
          "output_type": "display_data",
          "data": {
            "text/plain": [
              "<IPython.core.display.Javascript object>"
            ],
            "application/javascript": [
              "(async (port, path, width, height, cache, element) => {\n",
              "    if (!google.colab.kernel.accessAllowed && !cache) {\n",
              "      return;\n",
              "    }\n",
              "    element.appendChild(document.createTextNode(''));\n",
              "    const url = await google.colab.kernel.proxyPort(port, {cache});\n",
              "    const iframe = document.createElement('iframe');\n",
              "    iframe.src = new URL(path, url).toString();\n",
              "    iframe.height = height;\n",
              "    iframe.width = width;\n",
              "    iframe.style.border = 0;\n",
              "    iframe.allow = [\n",
              "        'accelerometer',\n",
              "        'autoplay',\n",
              "        'camera',\n",
              "        'clipboard-read',\n",
              "        'clipboard-write',\n",
              "        'gyroscope',\n",
              "        'magnetometer',\n",
              "        'microphone',\n",
              "        'serial',\n",
              "        'usb',\n",
              "        'xr-spatial-tracking',\n",
              "    ].join('; ');\n",
              "    element.appendChild(iframe);\n",
              "  })(8030, \"/\", \"100%\", 650, false, window.element)"
            ]
          },
          "metadata": {}
        }
      ],
      "source": [
        "from jupyter_dash import JupyterDash\n",
        "from dash import dcc, html, Output, Input, no_update\n",
        "import dash_bootstrap_components as dbc\n",
        "import plotly.graph_objects as go\n",
        "import pandas as pd\n",
        "\n",
        "dff = test.df\n",
        "por_start = test.por_start_year\n",
        "por_end = test.por_end_year\n",
        "yrs = list(range(por_start,por_end+1))\n",
        "dff = dff.astype({\"variable\": 'string'}, errors='ignore')\n",
        "mon = {1:'Jan', 2:'Feb', 3:'Mar', 4:'Apr', 5:'May', 6:'Jun', 7:'Jul', 8:'Aug', 9:'Sep', 10:'Oct', 11:'Nov', 12:'Dec'}\n",
        "dff['mon'] = dff['month'].map(mon)\n",
        "\n",
        "app = JupyterDash(__name__, external_stylesheets=[dbc.themes.CYBORG])\n",
        "\n",
        "\n",
        "app.layout = html.Div([\n",
        "    dbc.Row(html.H6(' ')),\n",
        "    dbc.Row([\n",
        "        dbc.Col([\n",
        "            html.H6('Select start year'),\n",
        "            dcc.Dropdown(yrs, value=por_start, id='base_start',searchable=False)\n",
        "        ]),\n",
        "        dbc.Col([\n",
        "            html.H6('Select end year'),\n",
        "            dcc.Dropdown(yrs, value=por_end, id='base_end',searchable=False)\n",
        "        ]),\n",
        "        dbc.Col([\n",
        "            html.H6('Select element to investigate'),\n",
        "            dcc.Dropdown(\n",
        "                options=[\n",
        "                    {'label': 'Min Temp', 'value': 'mint'},\n",
        "                    {'label': 'Max Temp', 'value': 'maxt'},\n",
        "                    {'label': 'Avg Temp', 'value': 'avgt'}#,\n",
        "                    #{'label': 'Normal Min', 'value': 'mint_n'},\n",
        "                    #{'label': 'Normal Max', 'value': 'maxt_n'},\n",
        "                    #{'label': 'Normal Avg', 'value': 'avgt_n'},\n",
        "                    ],\n",
        "                    value='maxt',id=\"element\", searchable=False)\n",
        "        ]),\n",
        "        dbc.Col([\n",
        "            html.H6('Year to compare'),\n",
        "            dcc.Dropdown(yrs, value=2015, id='single_year',searchable=False)\n",
        "        ])\n",
        "    ]),\n",
        "    dbc.Row(html.H6(' ')),\n",
        "    dbc.Row(dcc.Graph(id=\"graphing\"))\n",
        "])\n",
        "\n",
        "\n",
        "@app.callback(\n",
        "    Output(\"graphing\", \"figure\"),\n",
        "    Input(\"base_start\", \"value\"),\n",
        "    Input(\"base_end\", \"value\"),\n",
        "    Input(\"element\", \"value\"),\n",
        "    Input(\"single_year\", \"value\"))\n",
        "def update_violin_chart(base_start,base_end,element,single_year):\n",
        "  df = dff[(dff['variable'] == element)]\n",
        "  nice_name = 'Minimum Temperature'\n",
        "  col = 'blue'\n",
        "  if element == 'maxt':\n",
        "    nice_name = 'Maximum Temperature'\n",
        "    col = 'red'\n",
        "  if element == 'avgt':\n",
        "    nice_name = 'Average Temperature'\n",
        "    col = 'orange'\n",
        "  df_base = df[(df['year'] >= base_start) & (df['year'] <= base_end)]\n",
        "  df_year = df[df['year'] == single_year]\n",
        "\n",
        "  fig = go.Figure()\n",
        "\n",
        "  fig.add_trace(go.Violin(x=df_base['mon'], y=df_base['temperature'],\n",
        "                          legendgroup='Yes', scalegroup='Yes', name=f'{base_start}-{base_end}',\n",
        "                          side='negative',\n",
        "                          line_color='gray')\n",
        "              )\n",
        "  fig.add_trace(go.Violin(x=df_year['mon'],\n",
        "                          y=df_year['temperature'],\n",
        "                          legendgroup='No', scalegroup='No', name=f'{single_year}',\n",
        "                          side='positive',\n",
        "                          line_color=col)\n",
        "              )\n",
        "  fig.update_traces(meanline_visible=True)\n",
        "  fig.update_layout(violingap=0, violinmode='overlay')\n",
        "  r = [-30,120]\n",
        "  fig.update_yaxes(range = r)\n",
        "  fig.update_layout(autotypenumbers='convert types')\n",
        "  fig.update_layout(title=f'{test.full_name} {nice_name}',\n",
        "                    legend_title='',\n",
        "                    yaxis_title='Temperature  (F)')\n",
        "  fig.update_layout(margin=dict(l=20, r=10, t=60, b=20))\n",
        "  return fig\n",
        "\n",
        "app.run_server(mode='inline', port=8030)"
      ]
    }
  ]
}